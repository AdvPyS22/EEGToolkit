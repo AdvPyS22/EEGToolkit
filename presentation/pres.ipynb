{
 "cells": [
  {
   "cell_type": "markdown",
   "metadata": {},
   "source": [
    "# EEGToolkit \n",
    "### A small python package to quickly provide first insights into EEG data from reaction-time delay experiments.\n",
    "\n",
    "Axel Giottonini, Noah Kleinschmidt, Kalvin Dobler\n",
    "\n",
    "\n",
    "AdvPy Project, FS 2022\n",
    "\n",
    "---"
   ]
  },
  {
   "cell_type": "markdown",
   "metadata": {},
   "source": [
    "The package can be installed via `pip` directly via the TestPyPI package index:\n",
    "\n",
    "```bash\n",
    "\n",
    "pip install -i https://test.pypi.org/simple/ EEGToolkit\n",
    "\n",
    "```"
   ]
  },
  {
   "cell_type": "markdown",
   "metadata": {},
   "source": [
    "## Groundwork\n",
    "\n",
    "- Inputs are two datafiles specifying EEG recorded signal data, and accompanying time-event metadata.\n",
    "    - multiple filetypes are supported (`csv, tsv, txt, npy`)\n",
    "- Timeframe-Windows are extracted around all specified event timepoints (from the metadata)\n",
    "- Position-wise T-Tests compare signal differences \n",
    "    - between different types of events\n",
    "    - within the same type of event across replicates, against the event's baseline signal\n",
    "- Output is a summary figure of the conducted T-Tests\n"
   ]
  },
  {
   "cell_type": "markdown",
   "metadata": {},
   "source": [
    "![](../test.png)"
   ]
  },
  {
   "cell_type": "markdown",
   "metadata": {},
   "source": [
    "The figure layout is adjusted by the number of different types of events that were recorded. (Here we replicated the original metadata several times, so some of the signals are identical...)\n",
    "\n",
    "![](../test_extended.png)"
   ]
  },
  {
   "cell_type": "markdown",
   "metadata": {},
   "source": [
    "### Usage\n",
    "\n",
    "The foundation is an `API` centered on the `EEGData` class which handles file reading, and summarising the output, using class methods and additional functions. "
   ]
  },
  {
   "cell_type": "code",
   "execution_count": null,
   "metadata": {},
   "outputs": [],
   "source": [
    "import EEGToolkit as eeg\n",
    "\n",
    "# setup the EEGData object\n",
    "e = eeg.EEGData( \n",
    "                    signal_path = \"./data/eeg.txt\", \n",
    "                    event_path = \"./data/events.tsv\", \n",
    "                    sampling_frequency = 500 \n",
    "                )\n",
    "\n",
    "# extract event time-windows\n",
    "e.extract( start_sec = -0.5, stop_sec = 1.2 )\n",
    "\n",
    "# perform baseline comparison for each signal\n",
    "e.baseline()\n",
    "\n",
    "# change the labelling scales of the data\n",
    "timescale = 1000 # milliseconds\n",
    "signalscale = 1000 # millivolts\n",
    "\n",
    "# generate a summary figure\n",
    "e.summary( x_scale = timescale, y_scale = signalscale )"
   ]
  },
  {
   "cell_type": "markdown",
   "metadata": {},
   "source": [
    "For quicker processing we added a `CLI` which can directly be accessed from the terminal as \n",
    "\n",
    "```bash\n",
    "EEGToolkit --eeg ./data/eeg.txt --event ./data/events.tsv -f 500 -s -0.5 -e 1.2\n",
    "```"
   ]
  },
  {
   "cell_type": "markdown",
   "metadata": {},
   "source": [
    "For people who don't like working with CLIs so much, we also offer a `GUI` which can be activated using the CLI option `-i`\n",
    "\n",
    "```bash\n",
    "EEGToolkit -i\n",
    "```"
   ]
  },
  {
   "cell_type": "markdown",
   "metadata": {},
   "source": [
    "### Further ideas\n",
    "The first improvement that should be done, would be to implement a module for signal preprocessing. Such module could be developed partially with the `scipy` library and the various processing methods it offers. \n",
    "\n",
    "To go further with our project, we could extend the EEGData class to support multiple EEG signals, thus working on the signals in different position of the scalp.\n",
    "\n",
    "With such extension we could also develop topological and tomographical tools using libraries dedicated to the subject such as [`visbrain`](http://visbrain.org/)\n",
    "\n",
    "Finally we could create statistical tools to compare the responses between subjects.\n",
    "\n",
    "Out of the scope of the base project, the support for other brain imaging technologies such as fNIRS or fMRI could be implemented. Implementing theese methods would require the use of a GLM instead of the averaging done with EEG and a more sophisticated preprocessing should also be implemented.\n",
    "\n",
    "Great examples of what is now implemented for neuroimaging is presented on [nipy.org](https://nipy.org/) !"
   ]
  },
  {
   "cell_type": "code",
   "execution_count": null,
   "metadata": {},
   "outputs": [],
   "source": [
    "class EEGDataCollection(EEGData):\n",
    "\n",
    "    def __init__(self,\n",
    "                 signal_paths: list[str],\n",
    "                 positions: list[tuple[float, float, float]] | np.ndarray,\n",
    "                 event_path: str,\n",
    "                 sampling_frequency: float,\n",
    "                 **kwargs) -> None:\n",
    "\n",
    "        # Verification to assert that the input values are valid...\n",
    "\n",
    "        self.signals = [super().__init__(el, event_path, sampling_frequency, kwargs) for el in signal_paths]\n",
    "        self.positions = positions\n",
    "\n",
    "        # Verification to assert that the elements of the collection are obtained from the same experiment...\n",
    "\n",
    "\n",
    "    def extract(self,\n",
    "                start_sec:float,\n",
    "                stop_sec:float,\n",
    "                event_type : ( int or tuple or list or np.ndarray ) = None, \n",
    "                **kwargs) -> np.ndarray:\n",
    "\n",
    "        self._data = np.stack([signal.extract(start_sec, stop_sec, event_type, kwargs) for signal in self.signals], axis=-1)\n",
    "        return self._data\n",
    "    \n",
    "    # ..."
   ]
  }
 ],
 "metadata": {
  "kernelspec": {
   "display_name": "Python 3 (ipykernel)",
   "language": "python",
   "name": "python3"
  },
  "language_info": {
   "codemirror_mode": {
    "name": "ipython",
    "version": 3
   },
   "file_extension": ".py",
   "mimetype": "text/x-python",
   "name": "python",
   "nbconvert_exporter": "python",
   "pygments_lexer": "ipython3",
   "version": "3.9.7"
  }
 },
 "nbformat": 4,
 "nbformat_minor": 4
}
