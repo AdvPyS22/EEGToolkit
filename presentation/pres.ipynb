{
 "cells": [
  {
   "cell_type": "markdown",
   "metadata": {},
   "source": [
    "# EEGToolkit \n",
    "### A small python package to quickly provide first insights into EEG data from reaction-time delay experiments.\n",
    "\n",
    "Axel Giottonini, Noah Kleinschmidt, Kalvin Dobler\n",
    "\n",
    "\n",
    "AdvPy Project, FS 2022\n",
    "\n",
    "---"
   ]
  },
  {
   "cell_type": "markdown",
   "metadata": {},
   "source": [
    "The package can be installed via `pip` directly via the TestPyPI package index:\n",
    "\n",
    "```bash\n",
    "\n",
    "pip install -i https://test.pypi.org/simple/ EEGToolkit\n",
    "\n",
    "```"
   ]
  },
  {
   "cell_type": "markdown",
   "metadata": {},
   "source": [
    "## Groundwork\n",
    "\n",
    "- Inputs are two datafiles specifying EEG recorded signal data, and accompanying time-event metadata.\n",
    "    - multiple filetypes are supported (`csv, tsv, txt, npy`)\n",
    "- Timeframe-Windows are extracted around all specified event timepoints (from the metadata)\n",
    "- Position-wise T-Tests compare signal differences \n",
    "    - between different types of events\n",
    "    - within the same type of event across replicates, against the event's baseline signal\n",
    "- Output is a summary figure of the conducted T-Tests\n"
   ]
  },
  {
   "cell_type": "markdown",
   "metadata": {},
   "source": [
    "![](./test.png)"
   ]
  },
  {
   "cell_type": "markdown",
   "metadata": {},
   "source": [
    "The figure layout is adjusted by the number of different types of events that were recorded. (Here we replicated the original metadata several times, so some of the signals are identical...)\n",
    "\n",
    "![](./test_extended.png)"
   ]
  },
  {
   "cell_type": "markdown",
   "metadata": {},
   "source": [
    "### Usage\n",
    "\n",
    "The foundation is an `API` centered on the `EEGData` class which handles file reading, and summarising the output, using class methods and additional functions. "
   ]
  },
  {
   "cell_type": "code",
   "execution_count": null,
   "metadata": {},
   "outputs": [],
   "source": [
    "import EEGToolkit as eeg\n",
    "\n",
    "# setup the EEGData object\n",
    "e = eeg.EEGData( \n",
    "                    signal_path = \"./data/eeg.txt\", \n",
    "                    event_path = \"./data/events.tsv\", \n",
    "                    sampling_frequency = 500 \n",
    "                )\n",
    "\n",
    "# extract event time-windows\n",
    "e.extract( start_sec = -0.5, stop_sec = 1.2 )\n",
    "\n",
    "# perform baseline comparison for each signal\n",
    "e.baseline()\n",
    "\n",
    "# change the labelling scales of the data\n",
    "timescale = 1000 # milliseconds\n",
    "signalscale = 1000 # millivolts\n",
    "\n",
    "# generate a summary figure\n",
    "e.summary( x_scale = timescale, y_scale = signalscale )"
   ]
  },
  {
   "cell_type": "markdown",
   "metadata": {},
   "source": [
    "For quicker processing we added a `CLI` which can directly be accessed from the terminal as \n",
    "\n",
    "```bash\n",
    "EEGToolkit --eeg ./data/eeg.txt --event ./data/events.tsv -f 500 -s -0.5 -e 1.2\n",
    "```"
   ]
  },
  {
   "cell_type": "markdown",
   "metadata": {},
   "source": [
    "For people who don't like working with CLIs so much, we also offer a `GUI` which can be activated using the CLI option `-i`\n",
    "\n",
    "```bash\n",
    "EEGToolkit -i\n",
    "```"
   ]
  }
 ],
 "metadata": {
  "language_info": {
   "name": "python"
  },
  "orig_nbformat": 4
 },
 "nbformat": 4,
 "nbformat_minor": 2
}
